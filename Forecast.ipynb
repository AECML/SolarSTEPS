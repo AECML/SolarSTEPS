{
 "cells": [
  {
   "cell_type": "code",
   "execution_count": 2,
   "metadata": {
    "collapsed": true,
    "pycharm": {
     "name": "#%%\n"
    }
   },
   "outputs": [],
   "source": [
    "from Models.SolarSTEPS import SolarSTEPS\n",
    "from Models.ProbabilisticAdvection import ProbabilisticAdvection\n",
    "from pysteps.motion.lucaskanade import dense_lucaskanade\n",
    "from compute_metrics import compute_ensemble_metrics\n",
    "import numpy as np"
   ]
  },
  {
   "cell_type": "code",
   "execution_count": null,
   "outputs": [],
   "source": [
    "# import input images and output images to use to evaluate the forecast\n",
    "input_images = ...\n",
    "output_images = ..."
   ],
   "metadata": {
    "collapsed": false,
    "pycharm": {
     "name": "#%%\n"
    }
   }
  },
  {
   "cell_type": "code",
   "execution_count": null,
   "outputs": [],
   "source": [
    "# compute Lucas-Kanade motion field\n",
    "motion_field = dense_lucaskanade(input_images)"
   ],
   "metadata": {
    "collapsed": false,
    "pycharm": {
     "name": "#%%\n"
    }
   }
  },
  {
   "cell_type": "code",
   "execution_count": null,
   "outputs": [],
   "source": [
    "# initialize the models\n",
    "pa = ProbabilisticAdvection(alpha=9.23, # variance of norm perturbation\n",
    "                            beta=0.14, # k value for vonMises distribution for angle perturbation\n",
    "                            ens_members=40,\n",
    "                            return_motion_field=False)\n",
    "\n",
    "solarsteps = SolarSTEPS(ar_order=1,\n",
    "                        n_cascade_levels=7,\n",
    "                        probmatching=True,\n",
    "                        norm=True,\n",
    "                        local=False,\n",
    "                        noise_kwargs={'noise_win_size':90,\n",
    "                                      'noise_std_win_size':15,\n",
    "                                      'noise_method':'local-SSFT'},\n",
    "                        norm_kwargs={'extra_normalization':True},\n",
    "                        verbose=False\n",
    "                        )"
   ],
   "metadata": {
    "collapsed": false,
    "pycharm": {
     "name": "#%%\n"
    }
   }
  },
  {
   "cell_type": "code",
   "execution_count": null,
   "outputs": [],
   "source": [
    "n_steps = 16\n",
    "\n",
    "# compute probabilsitic advection forecast ensemble\n",
    "pa_yhat = pa.maps_forecast(n_steps, input_images, motion_field)\n",
    "\n",
    "# preprocess images in case of discontinuities\n",
    "np.random.seed(0)\n",
    "input_images += np.random.uniform(-0.00001, 0.00001, input_images.shape)\n",
    "\n",
    "# compute SolarSTEPS forecast ensemble\n",
    "ss_yhat = solarsteps.ensemble_forecast(input_images, motion_field,\n",
    "                                       n_steps, seeds=np.arange(40))"
   ],
   "metadata": {
    "collapsed": false,
    "pycharm": {
     "name": "#%%\n"
    }
   }
  },
  {
   "cell_type": "code",
   "execution_count": null,
   "outputs": [],
   "source": [
    "# compute the metrics\n",
    "solarsteps_result = compute_ensemble_metrics(ss_yhat, output_images)\n",
    "pa_results = compute_ensemble_metrics(pa_yhat, output_images)"
   ],
   "metadata": {
    "collapsed": false,
    "pycharm": {
     "name": "#%%\n"
    }
   }
  }
 ],
 "metadata": {
  "kernelspec": {
   "display_name": "Python 3",
   "language": "python",
   "name": "python3"
  },
  "language_info": {
   "codemirror_mode": {
    "name": "ipython",
    "version": 2
   },
   "file_extension": ".py",
   "mimetype": "text/x-python",
   "name": "python",
   "nbconvert_exporter": "python",
   "pygments_lexer": "ipython2",
   "version": "2.7.6"
  }
 },
 "nbformat": 4,
 "nbformat_minor": 0
}